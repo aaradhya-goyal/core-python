{
 "cells": [
  {
   "cell_type": "code",
   "execution_count": null,
   "id": "b5c22aef",
   "metadata": {},
   "outputs": [],
   "source": []
  },
  {
   "cell_type": "markdown",
   "id": "4b90d03f",
   "metadata": {},
   "source": [
    "#  Bar Chart/ Bar Graph/ Bar Plot"
   ]
  },
  {
   "cell_type": "code",
   "execution_count": 1,
   "id": "0a826356",
   "metadata": {},
   "outputs": [],
   "source": [
    "# In a line plot, the data points will be marked and these markers will be\n",
    "# connected by line.\n",
    "# But in bar chart, data will be represented in the form of bars"
   ]
  },
  {
   "cell_type": "code",
   "execution_count": 1,
   "id": "5b2e94a2",
   "metadata": {},
   "outputs": [],
   "source": [
    "#just checking if this is updating"
   ]
  },
  {
   "cell_type": "code",
   "execution_count": 2,
   "id": "3900a547",
   "metadata": {},
   "outputs": [],
   "source": [
    "# types of bar charts\n",
    "# Simple bar chart/vertical bar chart\n",
    "# Horizontal bar chart\n",
    "# Stacked Bar chart\n",
    "# Clustered Bar Chart/Grouped Bar Chart"
   ]
  },
  {
   "cell_type": "code",
   "execution_count": null,
   "id": "e3833b05",
   "metadata": {},
   "outputs": [],
   "source": []
  },
  {
   "cell_type": "markdown",
   "id": "2722cc8b",
   "metadata": {},
   "source": [
    "# Simple bar chart/vertical bar chart"
   ]
  },
  {
   "cell_type": "code",
   "execution_count": 3,
   "id": "5e8097e0",
   "metadata": {},
   "outputs": [],
   "source": [
    "# The data will be represented in the form of vertical bars.\n",
    "# Each vertical bar represents an individual category.\n",
    "# The height/length of the bar is based on value it represents.\n",
    "# Most of the times the width of the bar is fixed, but we can customize.\n",
    "# The default width: 0.8\n",
    "# By using bar() function we can create bar chart"
   ]
  },
  {
   "cell_type": "code",
   "execution_count": 1,
   "id": "472b1e52",
   "metadata": {},
   "outputs": [],
   "source": [
    "import matplotlib.pyplot as plt\n",
    "#help(plt.bar)"
   ]
  },
  {
   "cell_type": "code",
   "execution_count": 4,
   "id": "9092ebf2",
   "metadata": {},
   "outputs": [
    {
     "data": {
      "text/plain": [
       "[<matplotlib.lines.Line2D at 0x1dfa0780730>]"
      ]
     },
     "execution_count": 4,
     "metadata": {},
     "output_type": "execute_result"
    },
    {
     "data": {
      "image/png": "[encoded data removed]",
      "text/plain": [
       "<Figure size 432x288 with 1 Axes>"
      ]
     },
     "metadata": {
      "needs_background": "light"
     },
     "output_type": "display_data"
    }
   ],
   "source": [
    "x = ['alen','tokyo','denver','rio','alex']                # x-axis values\n",
    "y = [100,300,200,600,700]                                # height of bars, values for y-axis\n",
    "\n",
    "plt.plot(x , y)"
   ]
  },
  {
   "cell_type": "code",
   "execution_count": null,
   "id": "b8aaa53c",
   "metadata": {},
   "outputs": [],
   "source": []
  },
  {
   "cell_type": "code",
   "execution_count": 2,
   "id": "0a502eac",
   "metadata": {},
   "outputs": [
    {
     "data": {
      "image/png": "[encoded data removed]",
      "text/plain": [
       "<Figure size 432x288 with 1 Axes>"
      ]
     },
     "metadata": {
      "needs_background": "light"
     },
     "output_type": "display_data"
    }
   ],
   "source": [
    "x = ['alen','tokyo','denver','rio','alex']                # x-axis values\n",
    "y = [100,300,200,600,1000]                                # height of bars, values for y-axis\n",
    "\n",
    "plt.bar(x , y)    \n",
    "\n",
    "plt.xlabel(\"names\" , size = 15)\n",
    "plt.ylabel(\"no of task\" , size = 15)\n",
    "plt.title(\"task\" , size = 20)\n",
    "plt.show()"
   ]
  },
  {
   "cell_type": "code",
   "execution_count": null,
   "id": "93b75a05",
   "metadata": {},
   "outputs": [],
   "source": []
  },
  {
   "cell_type": "code",
   "execution_count": 6,
   "id": "025589dc",
   "metadata": {},
   "outputs": [],
   "source": [
    "# We can customize several things like\n",
    "# changing color of each bar\n",
    "# changing width of each bar\n",
    "# changing bottom of each bar\n",
    "# changing alignments etc"
   ]
  },
  {
   "cell_type": "code",
   "execution_count": 2,
   "id": "38c06600",
   "metadata": {},
   "outputs": [],
   "source": [
    "import matplotlib.pyplot as plt"
   ]
  },
  {
   "cell_type": "code",
   "execution_count": 13,
   "id": "100eccf3",
   "metadata": {},
   "outputs": [
    {
     "data": {
      "image/png": "[encoded data removed]",
      "text/plain": [
       "<Figure size 432x288 with 1 Axes>"
      ]
     },
     "metadata": {
      "needs_background": "light"
     },
     "output_type": "display_data"
    }
   ],
   "source": [
    "x = ['alen','tokyo','denver','rio','alex']                 # x-axis values\n",
    "y = [100,300,200,600,1000]                                # height of bars, values for y-axis\n",
    "\n",
    "plt.bar(x , y , color = \"orange\")\n",
    "\n",
    "plt.xlabel(\"names\" , color =\"green\" , size = 15)\n",
    "plt.ylabel(\"no of task\" , color = \"blue\" , size = 15)\n",
    "plt.title(\"task\" , color =\"red\" , size = 30)\n",
    "plt.show()"
   ]
  },
  {
   "cell_type": "code",
   "execution_count": 13,
   "id": "e89b2d18",
   "metadata": {},
   "outputs": [],
   "source": [
    "# Different widths for bars\n",
    "# w = [0.8,0.6,0.7,0.9,0.5]"
   ]
  },
  {
   "cell_type": "code",
   "execution_count": 1,
   "id": "28fb592b",
   "metadata": {},
   "outputs": [
    {
     "ename": "NameError",
     "evalue": "name 'plt' is not defined",
     "output_type": "error",
     "traceback": [
      "\u001b[1;31m---------------------------------------------------------------------------\u001b[0m",
      "\u001b[1;31mNameError\u001b[0m                                 Traceback (most recent call last)",
      "Cell \u001b[1;32mIn[1], line 7\u001b[0m\n\u001b[0;32m      3\u001b[0m x \u001b[38;5;241m=\u001b[39m [\u001b[38;5;124m'\u001b[39m\u001b[38;5;124malen\u001b[39m\u001b[38;5;124m'\u001b[39m,\u001b[38;5;124m'\u001b[39m\u001b[38;5;124mtokyo\u001b[39m\u001b[38;5;124m'\u001b[39m,\u001b[38;5;124m'\u001b[39m\u001b[38;5;124mdenver\u001b[39m\u001b[38;5;124m'\u001b[39m,\u001b[38;5;124m'\u001b[39m\u001b[38;5;124mrio\u001b[39m\u001b[38;5;124m'\u001b[39m,\u001b[38;5;124m'\u001b[39m\u001b[38;5;124malex\u001b[39m\u001b[38;5;124m'\u001b[39m]  \n\u001b[0;32m      4\u001b[0m y \u001b[38;5;241m=\u001b[39m [\u001b[38;5;241m100\u001b[39m,\u001b[38;5;241m300\u001b[39m,\u001b[38;5;241m200\u001b[39m,\u001b[38;5;241m600\u001b[39m,\u001b[38;5;241m1000\u001b[39m]  \n\u001b[1;32m----> 7\u001b[0m plt\u001b[38;5;241m.\u001b[39mbar(x , y , color \u001b[38;5;241m=\u001b[39m[\u001b[38;5;124m'\u001b[39m\u001b[38;5;124mr\u001b[39m\u001b[38;5;124m'\u001b[39m,\u001b[38;5;124m'\u001b[39m\u001b[38;5;124mb\u001b[39m\u001b[38;5;124m'\u001b[39m])\n\u001b[0;32m      9\u001b[0m plt\u001b[38;5;241m.\u001b[39mxlabel(\u001b[38;5;124m\"\u001b[39m\u001b[38;5;124mnames\u001b[39m\u001b[38;5;124m\"\u001b[39m , color \u001b[38;5;241m=\u001b[39m\u001b[38;5;124m\"\u001b[39m\u001b[38;5;124mgreen\u001b[39m\u001b[38;5;124m\"\u001b[39m , size \u001b[38;5;241m=\u001b[39m \u001b[38;5;241m15\u001b[39m)\n\u001b[0;32m     10\u001b[0m plt\u001b[38;5;241m.\u001b[39mylabel(\u001b[38;5;124m\"\u001b[39m\u001b[38;5;124mno of task\u001b[39m\u001b[38;5;124m\"\u001b[39m , color \u001b[38;5;241m=\u001b[39m \u001b[38;5;124m\"\u001b[39m\u001b[38;5;124morange\u001b[39m\u001b[38;5;124m\"\u001b[39m , size \u001b[38;5;241m=\u001b[39m \u001b[38;5;241m15\u001b[39m)\n",
      "\u001b[1;31mNameError\u001b[0m: name 'plt' is not defined"
     ]
    }
   ],
   "source": [
    "# Separate color for each bar\n",
    "\n",
    "x = ['alen','tokyo','denver','rio','alex']  \n",
    "y = [100,300,200,600,1000]  \n",
    "\n",
    "\n",
    "plt.bar(x , y , color =['r','b','k','g','orange' , \"b\"])\n",
    "\n",
    "plt.xlabel(\"names\" , color =\"green\" , size = 15)\n",
    "plt.ylabel(\"no of task\" , color = \"orange\" , size = 15)\n",
    "plt.title(\"task\" , color =\"red\" , size = 20)\n",
    "plt.show()"
   ]
  },
  {
   "cell_type": "code",
   "execution_count": null,
   "id": "b1278484",
   "metadata": {},
   "outputs": [],
   "source": []
  },
  {
   "cell_type": "code",
   "execution_count": 16,
   "id": "8597f4b0",
   "metadata": {},
   "outputs": [
    {
     "data": {
      "image/png": "[encoded data removed]",
      "text/plain": [
       "<Figure size 432x288 with 1 Axes>"
      ]
     },
     "metadata": {
      "needs_background": "light"
     },
     "output_type": "display_data"
    }
   ],
   "source": [
    "# The width of each bar should be 0.5( default is 0.8)\n",
    "\n",
    "\n",
    "x = ['alen','tokyo','denver','rio','alex']  \n",
    "y = [100,300,200,600,1000]                                \n",
    "c = ['r','b','k','g','orange']\n",
    "plt.bar(x , y , color = c,width=0.8)\n",
    "\n",
    "plt.xlabel(\"names\" , color =\"green\" , size = 15)\n",
    "plt.ylabel(\"no of task\" , color = \"orange\" , size = 15)\n",
    "plt.title(\"task\" , color =\"red\" , size = 20)\n",
    "plt.show()"
   ]
  },
  {
   "cell_type": "code",
   "execution_count": 20,
   "id": "9d672877",
   "metadata": {},
   "outputs": [
    {
     "data": {
      "image/png": "[encoded data removed]",
      "text/plain": [
       "<Figure size 432x288 with 1 Axes>"
      ]
     },
     "metadata": {
      "needs_background": "light"
     },
     "output_type": "display_data"
    }
   ],
   "source": [
    "# bottom should be 50 instead of 0\n",
    "\n",
    "x = ['alen','tokyo','denver','rio','alex']  \n",
    "y = [100,300,200,600,1000]                                \n",
    "c = ['r','b','k','g','orange']\n",
    "\n",
    "plt.bar(x , y , color = c,width=0.5 , bottom = 50)\n",
    "\n",
    "plt.xlabel(\"names\" , color =\"green\" , size = 15)\n",
    "plt.ylabel(\"no of task\" , color = \"orange\" , size = 15)\n",
    "plt.title(\"task\" , color =\"red\" , size = 20)\n",
    "plt.show()"
   ]
  },
  {
   "cell_type": "code",
   "execution_count": 30,
   "id": "630815c9",
   "metadata": {},
   "outputs": [
    {
     "data": {
      "image/png": "[encoded data removed]",
      "text/plain": [
       "<Figure size 432x288 with 1 Axes>"
      ]
     },
     "metadata": {
      "needs_background": "light"
     },
     "output_type": "display_data"
    }
   ],
   "source": [
    "# alignment: center\n",
    "\n",
    "\n",
    "x = ['alen','tokyo','denver','rio','alex']  \n",
    "y = [100,300,200,600,1000]                                \n",
    "c = ['r','b','k','g','orange']\n",
    "\n",
    "plt.bar(x , y , color = c,align='center')\n",
    "\n",
    "plt.xlabel(\"names\" , color =\"green\" , size = 15)\n",
    "plt.ylabel(\"no of task\" , color = \"orange\" , size = 15)\n",
    "plt.title(\"task\" , color =\"red\" , size = 20)\n",
    "plt.show()"
   ]
  },
  {
   "cell_type": "code",
   "execution_count": null,
   "id": "9e32fe7d",
   "metadata": {},
   "outputs": [],
   "source": []
  },
  {
   "cell_type": "code",
   "execution_count": 33,
   "id": "3ea8f409",
   "metadata": {},
   "outputs": [
    {
     "data": {
      "image/png": "[encoded data removed]",
      "text/plain": [
       "<Figure size 432x288 with 1 Axes>"
      ]
     },
     "metadata": {
      "needs_background": "light"
     },
     "output_type": "display_data"
    }
   ],
   "source": [
    "# alignment: edge  (left)\n",
    "\n",
    "x = ['alen','tokyo','denver','rio','alex']  \n",
    "y = [100,300,200,600,1000]                                \n",
    "c = ['r','b','k','g','orange']\n",
    "\n",
    "plt.bar(x , y , color = c,align='edge')\n",
    "\n",
    "plt.xlabel(\"names\" , color =\"green\" , size = 15)\n",
    "plt.ylabel(\"no of task\" , color = \"orange\" , size = 15)\n",
    "plt.title(\"task\" , color =\"red\" , size = 20)\n",
    "plt.show()"
   ]
  },
  {
   "cell_type": "code",
   "execution_count": 35,
   "id": "25af120e",
   "metadata": {
    "scrolled": true
   },
   "outputs": [
    {
     "data": {
      "image/png": "[encoded data removed]",
      "text/plain": [
       "<Figure size 432x288 with 1 Axes>"
      ]
     },
     "metadata": {
      "needs_background": "light"
     },
     "output_type": "display_data"
    }
   ],
   "source": [
    "# alignment: right\n",
    "\n",
    "x = ['alen','tokyo','denver','rio','alex']  \n",
    "y = [100,300,200,600,1000]                                \n",
    "c = ['r','b','k','g','orange']\n",
    "\n",
    "plt.bar(x , y , color = c, width = -0.8 , align='edge')\n",
    "\n",
    "plt.xlabel(\"names\" , color =\"green\" , size = 15)\n",
    "plt.ylabel(\"no of task\" , color = \"orange\" , size = 15)\n",
    "plt.title(\"task\" , color =\"red\" , size = 20)\n",
    "plt.show()"
   ]
  },
  {
   "cell_type": "code",
   "execution_count": null,
   "id": "6c1608c3",
   "metadata": {},
   "outputs": [],
   "source": []
  },
  {
   "cell_type": "code",
   "execution_count": 36,
   "id": "293866ce",
   "metadata": {},
   "outputs": [],
   "source": [
    "# Mobile Sales of Nokia Company from 2011 to 2020"
   ]
  },
  {
   "cell_type": "code",
   "execution_count": 31,
   "id": "b8964342",
   "metadata": {},
   "outputs": [
    {
     "data": {
      "image/png": "[encoded data removed]",
      "text/plain": [
       "<Figure size 432x288 with 1 Axes>"
      ]
     },
     "metadata": {
      "needs_background": "light"
     },
     "output_type": "display_data"
    }
   ],
   "source": [
    "import matplotlib.pyplot as plt\n",
    "years = [2011, 2012, 2013, 2014, 2015, 2016, 2017, 2018, 2019, 2020]\n",
    "sales = [10000, 25000, 45000, 30000, 10000,\n",
    "5000,70000,60000,65000,50000]\n",
    "\n",
    "c = ['r','k','y','g','orange','m','c','b','lime','violet']\n",
    "plt.bar(years,sales,color=c)\n",
    "plt.xlabel('Year',color='b',fontsize=15)\n",
    "plt.ylabel('Number of Sales',color='b',fontsize=15)\n",
    "plt.title('Nokia Mobile Sales in the last Decade',color='r',fontsize=15)\n",
    "plt.xticks(years,rotation=45)\n",
    "plt.tight_layout()\n",
    "plt.grid(axis='x')\n",
    "plt.show()"
   ]
  },
  {
   "cell_type": "code",
   "execution_count": null,
   "id": "7df90193",
   "metadata": {},
   "outputs": [],
   "source": []
  },
  {
   "cell_type": "code",
   "execution_count": 48,
   "id": "1769b413",
   "metadata": {},
   "outputs": [],
   "source": [
    "# How to add labels to the bar chart:"
   ]
  },
  {
   "cell_type": "code",
   "execution_count": 12,
   "id": "df035d27",
   "metadata": {},
   "outputs": [
    {
     "data": {
      "image/png": "[encoded data removed]",
      "text/plain": [
       "<Figure size 432x288 with 1 Axes>"
      ]
     },
     "metadata": {
      "needs_background": "light"
     },
     "output_type": "display_data"
    }
   ],
   "source": [
    "years = [2011, 2012, 2013, 2014, 2015, 2016, 2017, 2018, 2019, 2020]\n",
    "sales = [10000, 25000, 45000, 30000, 10000,5000,70000,60000,65000,50000]\n",
    "plt.bar(years,sales,color='r')\n",
    "plt.xlabel('Year',color='b',fontsize=15)\n",
    "plt.ylabel('Number of Sales',color='b',fontsize=15)\n",
    "plt.title('Nokia Mobile Sales in the last Decade',color='r',fontsize=15)\n",
    "plt.xticks(years,rotation=30)\n",
    "plt.tight_layout()\n",
    "for i in range(len(years)): # 0 to 9\n",
    "    plt.text(years[i],sales[i]+2000,sales[i],ha='center',color='b')\n",
    "plt.show()"
   ]
  },
  {
   "cell_type": "code",
   "execution_count": null,
   "id": "ce98474a",
   "metadata": {},
   "outputs": [],
   "source": []
  },
  {
   "cell_type": "code",
   "execution_count": 52,
   "id": "ad64e80e",
   "metadata": {},
   "outputs": [],
   "source": [
    "# Plotting bar chart with data from csv file"
   ]
  },
  {
   "cell_type": "code",
   "execution_count": 13,
   "id": "e9c64a36",
   "metadata": {},
   "outputs": [],
   "source": [
    "import matplotlib.pyplot as plt\n",
    "import numpy as np\n",
    "import csv\n",
    "import pandas as pd"
   ]
  },
  {
   "cell_type": "code",
   "execution_count": 14,
   "id": "6906ecb2",
   "metadata": {},
   "outputs": [],
   "source": [
    "data = pd.read_csv(\"stud.csv\")"
   ]
  },
  {
   "cell_type": "code",
   "execution_count": 15,
   "id": "ab46aa41",
   "metadata": {},
   "outputs": [
    {
     "data": {
      "text/html": [
       "<div>\n",
       "<style scoped>\n",
       "    .dataframe tbody tr th:only-of-type {\n",
       "        vertical-align: middle;\n",
       "    }\n",
       "\n",
       "    .dataframe tbody tr th {\n",
       "        vertical-align: top;\n",
       "    }\n",
       "\n",
       "    .dataframe thead th {\n",
       "        text-align: right;\n",
       "    }\n",
       "</style>\n",
       "<table border=\"1\" class=\"dataframe\">\n",
       "  <thead>\n",
       "    <tr style=\"text-align: right;\">\n",
       "      <th></th>\n",
       "      <th>name</th>\n",
       "      <th>marks</th>\n",
       "    </tr>\n",
       "  </thead>\n",
       "  <tbody>\n",
       "    <tr>\n",
       "      <th>0</th>\n",
       "      <td>Sunil</td>\n",
       "      <td>100</td>\n",
       "    </tr>\n",
       "    <tr>\n",
       "      <th>1</th>\n",
       "      <td>pankaj</td>\n",
       "      <td>200</td>\n",
       "    </tr>\n",
       "    <tr>\n",
       "      <th>2</th>\n",
       "      <td>mohan</td>\n",
       "      <td>300</td>\n",
       "    </tr>\n",
       "    <tr>\n",
       "      <th>3</th>\n",
       "      <td>rohit</td>\n",
       "      <td>200</td>\n",
       "    </tr>\n",
       "    <tr>\n",
       "      <th>4</th>\n",
       "      <td>renu</td>\n",
       "      <td>400</td>\n",
       "    </tr>\n",
       "    <tr>\n",
       "      <th>5</th>\n",
       "      <td>riya</td>\n",
       "      <td>300</td>\n",
       "    </tr>\n",
       "    <tr>\n",
       "      <th>6</th>\n",
       "      <td>ritu</td>\n",
       "      <td>500</td>\n",
       "    </tr>\n",
       "    <tr>\n",
       "      <th>7</th>\n",
       "      <td>tina</td>\n",
       "      <td>600</td>\n",
       "    </tr>\n",
       "    <tr>\n",
       "      <th>8</th>\n",
       "      <td>kajal</td>\n",
       "      <td>400</td>\n",
       "    </tr>\n",
       "    <tr>\n",
       "      <th>9</th>\n",
       "      <td>monu</td>\n",
       "      <td>700</td>\n",
       "    </tr>\n",
       "    <tr>\n",
       "      <th>10</th>\n",
       "      <td>Sachin</td>\n",
       "      <td>300</td>\n",
       "    </tr>\n",
       "    <tr>\n",
       "      <th>11</th>\n",
       "      <td>Dravid</td>\n",
       "      <td>900</td>\n",
       "    </tr>\n",
       "    <tr>\n",
       "      <th>12</th>\n",
       "      <td>Kohli</td>\n",
       "      <td>1000</td>\n",
       "    </tr>\n",
       "    <tr>\n",
       "      <th>13</th>\n",
       "      <td>Rahul</td>\n",
       "      <td>800</td>\n",
       "    </tr>\n",
       "    <tr>\n",
       "      <th>14</th>\n",
       "      <td>dinesh</td>\n",
       "      <td>600</td>\n",
       "    </tr>\n",
       "    <tr>\n",
       "      <th>15</th>\n",
       "      <td>tannu</td>\n",
       "      <td>500</td>\n",
       "    </tr>\n",
       "    <tr>\n",
       "      <th>16</th>\n",
       "      <td>arun</td>\n",
       "      <td>700</td>\n",
       "    </tr>\n",
       "    <tr>\n",
       "      <th>17</th>\n",
       "      <td>nitin</td>\n",
       "      <td>600</td>\n",
       "    </tr>\n",
       "    <tr>\n",
       "      <th>18</th>\n",
       "      <td>aman</td>\n",
       "      <td>300</td>\n",
       "    </tr>\n",
       "    <tr>\n",
       "      <th>19</th>\n",
       "      <td>neha</td>\n",
       "      <td>400</td>\n",
       "    </tr>\n",
       "  </tbody>\n",
       "</table>\n",
       "</div>"
      ],
      "text/plain": [
       "      name  marks\n",
       "0    Sunil    100\n",
       "1   pankaj    200\n",
       "2    mohan    300\n",
       "3    rohit    200\n",
       "4     renu    400\n",
       "5     riya    300\n",
       "6     ritu    500\n",
       "7     tina    600\n",
       "8    kajal    400\n",
       "9     monu    700\n",
       "10  Sachin    300\n",
       "11  Dravid    900\n",
       "12   Kohli   1000\n",
       "13   Rahul    800\n",
       "14  dinesh    600\n",
       "15   tannu    500\n",
       "16    arun    700\n",
       "17   nitin    600\n",
       "18    aman    300\n",
       "19    neha    400"
      ]
     },
     "execution_count": 15,
     "metadata": {},
     "output_type": "execute_result"
    }
   ],
   "source": [
    "data"
   ]
  },
  {
   "cell_type": "code",
   "execution_count": 65,
   "id": "adddf0d0",
   "metadata": {},
   "outputs": [],
   "source": [
    "l1 = [i for i in data[\"name\"]]\n",
    "l2 = [i for i in data[\"marks\"]]"
   ]
  },
  {
   "cell_type": "code",
   "execution_count": 84,
   "id": "63c0467c",
   "metadata": {},
   "outputs": [
    {
     "data": {
      "image/png": "[encoded data removed]",
      "text/plain": [
       "<Figure size 432x288 with 1 Axes>"
      ]
     },
     "metadata": {
      "needs_background": "light"
     },
     "output_type": "display_data"
    }
   ],
   "source": [
    "c = ['r','k','y','g','orange']\n",
    "\n",
    "plt.bar(l1 , l2  , color = c)\n",
    "\n",
    "plt.xticks(l1, rotation = 90)\n",
    "\n",
    "plt.show()"
   ]
  },
  {
   "cell_type": "markdown",
   "id": "21ee4d34",
   "metadata": {},
   "source": [
    "# Stacked Bar chart:"
   ]
  },
  {
   "cell_type": "code",
   "execution_count": 85,
   "id": "802ba721",
   "metadata": {},
   "outputs": [],
   "source": [
    "\n",
    "# If each category contains multiple subcategories then we should go for\n",
    "# stacked bar chart.\n",
    "# Here each subcategory will be plotted on top of other subcategory.\n",
    "\n",
    "# Eg-1: Country wise total population we have to represent.But in that\n",
    "#       population we have to plot separately men and women.\n",
    "# Eg-2: Country wise medals we have to represent.But in that total number\n",
    "#       of medals, we have to represent gold,silver and bronze medals separately"
   ]
  },
  {
   "cell_type": "code",
   "execution_count": null,
   "id": "b0457173",
   "metadata": {},
   "outputs": [],
   "source": []
  },
  {
   "cell_type": "code",
   "execution_count": 52,
   "id": "92d32d40",
   "metadata": {},
   "outputs": [
    {
     "data": {
      "image/png": "[encoded data removed]",
      "text/plain": [
       "<Figure size 432x288 with 1 Axes>"
      ]
     },
     "metadata": {
      "needs_background": "light"
     },
     "output_type": "display_data"
    }
   ],
   "source": [
    "names = ['riya','renu','arun','nitin','Tina']\n",
    "\n",
    "english_marks = [90,80,85,55,50]\n",
    "maths_marks = [25,23,45,32,50]\n",
    "\n",
    "plt.bar(names,english_marks,color='r')\n",
    "plt.bar(names, maths_marks, color='g')\n",
    "plt.show()"
   ]
  },
  {
   "cell_type": "code",
   "execution_count": null,
   "id": "51f83164",
   "metadata": {},
   "outputs": [],
   "source": []
  },
  {
   "cell_type": "code",
   "execution_count": 88,
   "id": "7614a279",
   "metadata": {},
   "outputs": [],
   "source": [
    "# Note\n",
    "\n",
    "# In the above program overlapping will happens because both bars are\n",
    "# started from 0 itself\n",
    "\n",
    "# to solve this issue we will use bottom property from which position the\n",
    "# second bar should start"
   ]
  },
  {
   "cell_type": "code",
   "execution_count": null,
   "id": "9b0c7bcf",
   "metadata": {},
   "outputs": [],
   "source": []
  },
  {
   "cell_type": "code",
   "execution_count": 56,
   "id": "4770dbda",
   "metadata": {},
   "outputs": [
    {
     "data": {
      "image/png": "[encoded data removed]",
      "text/plain": [
       "<Figure size 432x288 with 1 Axes>"
      ]
     },
     "metadata": {
      "needs_background": "light"
     },
     "output_type": "display_data"
    }
   ],
   "source": [
    "names = ['riya','renu','arun','nitin','Tina']\n",
    "\n",
    "english_marks = [90,80,85,25,50]\n",
    "maths_marks = [25,23,45,32,50]\n",
    "\n",
    "#plt.bar(names,english_marks,color='r')\n",
    "\n",
    "plt.barh(names, maths_marks, color='g')\n",
    "\n",
    "plt.show()"
   ]
  },
  {
   "cell_type": "code",
   "execution_count": null,
   "id": "cd772a39",
   "metadata": {},
   "outputs": [],
   "source": []
  },
  {
   "cell_type": "code",
   "execution_count": 104,
   "id": "5934d20e",
   "metadata": {},
   "outputs": [
    {
     "data": {
      "image/png": "[encoded data removed]",
      "text/plain": [
       "<Figure size 432x288 with 1 Axes>"
      ]
     },
     "metadata": {
      "needs_background": "light"
     },
     "output_type": "display_data"
    }
   ],
   "source": [
    "import matplotlib.pyplot as plt\n",
    "import numpy as np\n",
    "country_name = ['India','China','US','UK']\n",
    "gold_medals = np.array([60,40,50,20])\n",
    "silver_medals = np.array([50,30,25,43])\n",
    "bronze_medals = np.array([55,24,45,6])\n",
    "\n",
    "plt.bar(country_name,gold_medals,color='orange')\n",
    "\n",
    "plt.bar(country_name,silver_medals,bottom = gold_medals,color='r')\n",
    "\n",
    "plt.bar(country_name,bronze_medals,bottom = gold_medals+silver_medals ,color='g',)\n",
    "\n",
    "plt.xlabel('Country Name',color='b',fontsize=15)\n",
    "plt.ylabel('Number of Medals',color='b',fontsize=15)\n",
    "plt.title('Country Wise Medals Report',color='r',fontsize=15)\n",
    "plt.legend([\"gold\" , \"silver\" , \"bronze\"])\n",
    "plt.show()"
   ]
  },
  {
   "cell_type": "code",
   "execution_count": null,
   "id": "23da63da",
   "metadata": {},
   "outputs": [],
   "source": []
  },
  {
   "cell_type": "markdown",
   "id": "8749fc10",
   "metadata": {},
   "source": [
    "# Clustered Bar chart/Grouped Bar Chart/Multiple Bar Chart:"
   ]
  },
  {
   "cell_type": "code",
   "execution_count": 105,
   "id": "3f2bed51",
   "metadata": {},
   "outputs": [],
   "source": [
    "# If each category contains multiple sub categories and if we want to\n",
    "# represent all these sub categories side by side then we should go for\n",
    "# Clustered Bar Chart."
   ]
  },
  {
   "cell_type": "code",
   "execution_count": 58,
   "id": "157dc1b3",
   "metadata": {},
   "outputs": [],
   "source": [
    "import numpy as np"
   ]
  },
  {
   "cell_type": "code",
   "execution_count": 61,
   "id": "b2200326",
   "metadata": {},
   "outputs": [
    {
     "data": {
      "image/png": "[encoded data removed]",
      "text/plain": [
       "<Figure size 432x288 with 1 Axes>"
      ]
     },
     "metadata": {
      "needs_background": "light"
     },
     "output_type": "display_data"
    }
   ],
   "source": [
    "names = ['riya','renu','arun','nitin','Tina']\n",
    "\n",
    "english_marks = [90,80,85,55,50]\n",
    "maths_marks = [25,23,45,32,50]\n",
    "\n",
    "plt.bar(names,english_marks,color='r')\n",
    "plt.bar(names, maths_marks, color='g')\n",
    "plt.show()"
   ]
  },
  {
   "cell_type": "code",
   "execution_count": null,
   "id": "39103287",
   "metadata": {},
   "outputs": [],
   "source": []
  },
  {
   "cell_type": "code",
   "execution_count": 73,
   "id": "de1f91d8",
   "metadata": {},
   "outputs": [
    {
     "data": {
      "image/png": "[encoded data removed]",
      "text/plain": [
       "<Figure size 432x288 with 1 Axes>"
      ]
     },
     "metadata": {
      "needs_background": "light"
     },
     "output_type": "display_data"
    }
   ],
   "source": [
    "names = ['riya','renu','arun','nitin','Tina']\n",
    "\n",
    "english_marks = [90,80,85,25,50]\n",
    "maths_marks = [25,23,45,32,50]\n",
    "\n",
    "xpos = np.arange(len(names))\n",
    "w = 0.3\n",
    "\n",
    "plt.bar(xpos,english_marks,color='r',width=w)\n",
    "\n",
    "plt.bar(xpos+w,maths_marks,color='g',width=w)\n",
    "\n",
    "plt.xticks(xpos + w,names)\n",
    "\n",
    "plt.legend(['eng','math'])\n",
    "plt.show()"
   ]
  },
  {
   "cell_type": "code",
   "execution_count": 60,
   "id": "cdc86714",
   "metadata": {},
   "outputs": [
    {
     "data": {
      "text/plain": [
       "array([0, 1, 2, 3, 4])"
      ]
     },
     "execution_count": 60,
     "metadata": {},
     "output_type": "execute_result"
    }
   ],
   "source": [
    "np.arange(len(names))"
   ]
  },
  {
   "cell_type": "code",
   "execution_count": null,
   "id": "7bb65a4c",
   "metadata": {},
   "outputs": [],
   "source": []
  },
  {
   "cell_type": "code",
   "execution_count": 11,
   "id": "3bc6d270",
   "metadata": {},
   "outputs": [
    {
     "name": "stdout",
     "output_type": "stream",
     "text": [
      "0 h\n",
      "1 e\n",
      "2 l\n",
      "3 l\n",
      "4 o\n"
     ]
    }
   ],
   "source": [
    "s = \"hello\"\n",
    "\n",
    "for i , j in enumerate(s):\n",
    "    print(i , j)"
   ]
  },
  {
   "cell_type": "code",
   "execution_count": null,
   "id": "c7504b23",
   "metadata": {},
   "outputs": [],
   "source": []
  },
  {
   "cell_type": "code",
   "execution_count": null,
   "id": "224e9554",
   "metadata": {},
   "outputs": [],
   "source": []
  },
  {
   "cell_type": "code",
   "execution_count": 23,
   "id": "08e492a8",
   "metadata": {},
   "outputs": [],
   "source": [
    "import pandas as pd"
   ]
  },
  {
   "cell_type": "code",
   "execution_count": 24,
   "id": "3e6c61aa",
   "metadata": {},
   "outputs": [
    {
     "data": {
      "text/html": [
       "<div>\n",
       "<style scoped>\n",
       "    .dataframe tbody tr th:only-of-type {\n",
       "        vertical-align: middle;\n",
       "    }\n",
       "\n",
       "    .dataframe tbody tr th {\n",
       "        vertical-align: top;\n",
       "    }\n",
       "\n",
       "    .dataframe thead th {\n",
       "        text-align: right;\n",
       "    }\n",
       "</style>\n",
       "<table border=\"1\" class=\"dataframe\">\n",
       "  <thead>\n",
       "    <tr style=\"text-align: right;\">\n",
       "      <th></th>\n",
       "      <th>id</th>\n",
       "      <th>name</th>\n",
       "      <th>age</th>\n",
       "      <th>gender</th>\n",
       "      <th>marks</th>\n",
       "      <th>branch</th>\n",
       "    </tr>\n",
       "  </thead>\n",
       "  <tbody>\n",
       "    <tr>\n",
       "      <th>0</th>\n",
       "      <td>1</td>\n",
       "      <td>Ram</td>\n",
       "      <td>24</td>\n",
       "      <td>m</td>\n",
       "      <td>95</td>\n",
       "      <td>civil</td>\n",
       "    </tr>\n",
       "    <tr>\n",
       "      <th>1</th>\n",
       "      <td>2</td>\n",
       "      <td>Shyam</td>\n",
       "      <td>23</td>\n",
       "      <td>m</td>\n",
       "      <td>80</td>\n",
       "      <td>eee</td>\n",
       "    </tr>\n",
       "    <tr>\n",
       "      <th>2</th>\n",
       "      <td>3</td>\n",
       "      <td>Sita</td>\n",
       "      <td>20</td>\n",
       "      <td>f</td>\n",
       "      <td>85</td>\n",
       "      <td>cs</td>\n",
       "    </tr>\n",
       "    <tr>\n",
       "      <th>3</th>\n",
       "      <td>4</td>\n",
       "      <td>Geeta</td>\n",
       "      <td>21</td>\n",
       "      <td>f</td>\n",
       "      <td>93</td>\n",
       "      <td>eee</td>\n",
       "    </tr>\n",
       "    <tr>\n",
       "      <th>4</th>\n",
       "      <td>5</td>\n",
       "      <td>Kamal</td>\n",
       "      <td>18</td>\n",
       "      <td>m</td>\n",
       "      <td>77</td>\n",
       "      <td>me</td>\n",
       "    </tr>\n",
       "    <tr>\n",
       "      <th>...</th>\n",
       "      <td>...</td>\n",
       "      <td>...</td>\n",
       "      <td>...</td>\n",
       "      <td>...</td>\n",
       "      <td>...</td>\n",
       "      <td>...</td>\n",
       "    </tr>\n",
       "    <tr>\n",
       "      <th>95</th>\n",
       "      <td>96</td>\n",
       "      <td>Sneha</td>\n",
       "      <td>32</td>\n",
       "      <td>f</td>\n",
       "      <td>59</td>\n",
       "      <td>eee</td>\n",
       "    </tr>\n",
       "    <tr>\n",
       "      <th>96</th>\n",
       "      <td>97</td>\n",
       "      <td>Sumit</td>\n",
       "      <td>34</td>\n",
       "      <td>m</td>\n",
       "      <td>50</td>\n",
       "      <td>civil</td>\n",
       "    </tr>\n",
       "    <tr>\n",
       "      <th>97</th>\n",
       "      <td>98</td>\n",
       "      <td>Aarunya</td>\n",
       "      <td>21</td>\n",
       "      <td>f</td>\n",
       "      <td>88</td>\n",
       "      <td>civil</td>\n",
       "    </tr>\n",
       "    <tr>\n",
       "      <th>98</th>\n",
       "      <td>99</td>\n",
       "      <td>Atharva</td>\n",
       "      <td>20</td>\n",
       "      <td>m</td>\n",
       "      <td>90</td>\n",
       "      <td>me</td>\n",
       "    </tr>\n",
       "    <tr>\n",
       "      <th>99</th>\n",
       "      <td>100</td>\n",
       "      <td>Kowid</td>\n",
       "      <td>21</td>\n",
       "      <td>m</td>\n",
       "      <td>92</td>\n",
       "      <td>civil</td>\n",
       "    </tr>\n",
       "  </tbody>\n",
       "</table>\n",
       "<p>100 rows × 6 columns</p>\n",
       "</div>"
      ],
      "text/plain": [
       "     id     name  age gender  marks branch\n",
       "0     1      Ram   24      m     95  civil\n",
       "1     2    Shyam   23      m     80    eee\n",
       "2     3     Sita   20      f     85     cs\n",
       "3     4    Geeta   21      f     93    eee\n",
       "4     5    Kamal   18      m     77     me\n",
       "..  ...      ...  ...    ...    ...    ...\n",
       "95   96    Sneha   32      f     59    eee\n",
       "96   97    Sumit   34      m     50  civil\n",
       "97   98  Aarunya   21      f     88  civil\n",
       "98   99  Atharva   20      m     90     me\n",
       "99  100    Kowid   21      m     92  civil\n",
       "\n",
       "[100 rows x 6 columns]"
      ]
     },
     "execution_count": 24,
     "metadata": {},
     "output_type": "execute_result"
    }
   ],
   "source": [
    "df = pd.read_csv(\"st.csv\")\n",
    "df"
   ]
  },
  {
   "cell_type": "code",
   "execution_count": 40,
   "id": "fceb0962",
   "metadata": {},
   "outputs": [],
   "source": [
    "x = df[\"branch\"].value_counts()"
   ]
  },
  {
   "cell_type": "code",
   "execution_count": 41,
   "id": "bb1d8552",
   "metadata": {},
   "outputs": [
    {
     "data": {
      "text/plain": [
       "cs       22\n",
       "civil    21\n",
       "eee      16\n",
       "it       16\n",
       "me       14\n",
       "ec       11\n",
       "Name: branch, dtype: int64"
      ]
     },
     "execution_count": 41,
     "metadata": {},
     "output_type": "execute_result"
    }
   ],
   "source": [
    "x"
   ]
  },
  {
   "cell_type": "code",
   "execution_count": 38,
   "id": "0f8c3fb4",
   "metadata": {},
   "outputs": [
    {
     "data": {
      "image/png": "[encoded data removed]",
      "text/plain": [
       "<Figure size 432x288 with 1 Axes>"
      ]
     },
     "metadata": {
      "needs_background": "light"
     },
     "output_type": "display_data"
    }
   ],
   "source": [
    "x = ['alen','tokyo','denver','rio','alex']                # x-axis values\n",
    "y = [100,300,200,600,1000]                                # height of bars, values for y-axis\n",
    "\n",
    "plt.bar(x , y)    \n",
    "\n",
    "plt.xlabel(\"names\" , size = 15)\n",
    "plt.ylabel(\"no of task\" , size = 15)\n",
    "plt.title(\"task\" , size = 20)\n",
    "plt.show()"
   ]
  },
  {
   "cell_type": "code",
   "execution_count": 42,
   "id": "1f0162bd",
   "metadata": {},
   "outputs": [
    {
     "data": {
      "text/plain": [
       "cs       22\n",
       "civil    21\n",
       "eee      16\n",
       "it       16\n",
       "me       14\n",
       "ec       11\n",
       "Name: branch, dtype: int64"
      ]
     },
     "execution_count": 42,
     "metadata": {},
     "output_type": "execute_result"
    }
   ],
   "source": [
    "x"
   ]
  },
  {
   "cell_type": "code",
   "execution_count": 47,
   "id": "b09f81e5",
   "metadata": {},
   "outputs": [],
   "source": [
    "a = list(x.index)\n",
    "b = list(x.values)"
   ]
  },
  {
   "cell_type": "code",
   "execution_count": 50,
   "id": "dfea0f6b",
   "metadata": {},
   "outputs": [
    {
     "data": {
      "text/plain": [
       "<BarContainer object of 6 artists>"
      ]
     },
     "execution_count": 50,
     "metadata": {},
     "output_type": "execute_result"
    },
    {
     "data": {
      "image/png": "[encoded data removed]",
      "text/plain": [
       "<Figure size 432x288 with 1 Axes>"
      ]
     },
     "metadata": {
      "needs_background": "light"
     },
     "output_type": "display_data"
    }
   ],
   "source": [
    "plt.bar(x.index,x.values)"
   ]
  },
  {
   "cell_type": "code",
   "execution_count": null,
   "id": "d8138da5",
   "metadata": {},
   "outputs": [],
   "source": []
  },
  {
   "cell_type": "code",
   "execution_count": null,
   "id": "464c58d7",
   "metadata": {},
   "outputs": [],
   "source": []
  },
  {
   "cell_type": "code",
   "execution_count": null,
   "id": "10865e09",
   "metadata": {},
   "outputs": [],
   "source": []
  },
  {
   "cell_type": "code",
   "execution_count": null,
   "id": "85097e17",
   "metadata": {},
   "outputs": [],
   "source": []
  }
 ],
 "metadata": {
  "kernelspec": {
   "display_name": "Python 3 (ipykernel)",
   "language": "python",
   "name": "python3"
  },
  "language_info": {
   "codemirror_mode": {
    "name": "ipython",
    "version": 3
   },
   "file_extension": ".py",
   "mimetype": "text/x-python",
   "name": "python",
   "nbconvert_exporter": "python",
   "pygments_lexer": "ipython3",
   "version": "3.11.5"
  }
 },
 "nbformat": 4,
 "nbformat_minor": 5
}
